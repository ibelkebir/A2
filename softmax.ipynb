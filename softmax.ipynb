{
 "cells": [
  {
   "cell_type": "code",
   "execution_count": 21,
   "metadata": {},
   "outputs": [],
   "source": [
    "import numpy as np\n",
    "import pandas as pd\n",
    "import matplotlib.pyplot as plt\n",
    "import sklearn\n",
    "from sklearn.model_selection import GridSearchCV, KFold\n",
    "from IPython.core.debugger import set_trace\n",
    "import warnings\n",
    "warnings.filterwarnings('ignore')"
   ]
  },
  {
   "cell_type": "code",
   "execution_count": null,
   "metadata": {},
   "outputs": [],
   "source": [
    "# Data Collection"
   ]
  },
  {
   "cell_type": "code",
   "execution_count": 89,
   "metadata": {},
   "outputs": [],
   "source": [
    "# Gradient Optimizer\n",
    "\n",
    "softmax = lambda z: np.exp(z - z.max(axis=1, keepdims = True)) / np.exp(z - z.max(axis=1, keepdims = True)).sum(axis=1)[:,None]\n",
    "\n",
    "class Optimizer:\n",
    "    \n",
    "    def __init__(self, batch_size=10, learning_rate=0.1, momentum=0.1, max_iters=1e4, epsilon=1e-8, record_history=False):\n",
    "        self.learning_rate = learning_rate\n",
    "        self.batch_size = batch_size\n",
    "        self.learning_rate = learning_rate\n",
    "        self.momentum = momentum\n",
    "        self.max_iters = max_iters\n",
    "        self.epsilon = epsilon\n",
    "        self.record_history = record_history\n",
    "        if record_history:\n",
    "            self.w_history = []                 #to store the weight history for visualization\n",
    "            \n",
    "    def optimize(self, x, y, w):\n",
    "        grad = np.inf\n",
    "        t = 0\n",
    "        while np.linalg.norm(grad) > self.epsilon and t < self.max_iters:\n",
    "            print(cost_fn(x,y,w))\n",
    "            grad = self.gradient(x, y, w)              # compute the gradient with present weight\n",
    "            if self.learning_rate == 0:           # special case, use decreasing learning rate\n",
    "                w = w - (1 / (t + 1)) * grad      # weight update step using 1 / (t+1)\n",
    "            else:\n",
    "                w = w - self.learning_rate * grad         # weight update step using specified learning rate\n",
    "            if self.record_history:\n",
    "                self.w_history.append(w)\n",
    "            t += 1\n",
    "        return [w, t, np.linalg.norm(grad)]\n",
    "    \n",
    "    def gradient(self, x, y, w):\n",
    "        index = np.random.choice(x.shape[0], self.batch_size, replace=False) # choose a minibatch based on size\n",
    "        x_batch = x[index]\n",
    "        y_batch = y[index]\n",
    "        z = softmax(x_batch@w.T) - y_batch            \n",
    "        grad = np.zeros((w.shape[0],w.shape[1]))\n",
    "        for row in range(w.shape[0]):\n",
    "            for col in range(w.shape[1]):\n",
    "                grad[row][col] = (z[:,row] * x_batch[:,col]).sum(axis=0)    # calculate gradient for each weight vector\n",
    "        return grad\n",
    "        "
   ]
  },
  {
   "cell_type": "code",
   "execution_count": 90,
   "metadata": {},
   "outputs": [],
   "source": [
    "# Cost Function\n",
    "\n",
    "def cost_fn(x, y, w):                                                   \n",
    "    z = x@w.T\n",
    "    J = -((y@z.T).diagonal() - (z.max(axis=1) + np.log(np.exp(z - z.max(axis=1, keepdims=True)).sum(axis=1)))).mean()\n",
    "    return J"
   ]
  },
  {
   "cell_type": "code",
   "execution_count": 88,
   "metadata": {},
   "outputs": [],
   "source": [
    "# Softmax Classifier\n",
    "\n",
    "class softmax_classifier:\n",
    "    def __init__(self, add_bias=True, verbose=False):\n",
    "        self.add_bias = add_bias\n",
    "        self.verbose = verbose\n",
    "    \n",
    "    def fit(self, x, y, optimizer):\n",
    "        if x.ndim == 1:\n",
    "            x = x[:, None]\n",
    "        if self.add_bias:\n",
    "            N = x.shape[0]\n",
    "            x = np.column_stack([x,np.ones(N)])\n",
    "        N,D = x.shape\n",
    "        self.w = np.zeros((y.shape[1],D))\n",
    "        results = optimizer.optimize(x, y, self.w)\n",
    "        self.w = results[0]\n",
    "        \n",
    "        if self.verbose:\n",
    "            print(f'terminated after {results[1]} iterations, with norm of the gradient equal to {results[2]}')\n",
    "            print(f'the weight found: {self.w}')\n",
    "        return self\n",
    "    \n",
    "    def predict(self, x):\n",
    "        if x.ndim == 1:\n",
    "            x = x[:, None]\n",
    "        Nt = x.shape[0]\n",
    "        if self.add_bias:\n",
    "            x = np.column_stack([x,np.ones(Nt)])\n",
    "        z = softmax(x@self.w.T)\n",
    "        yh = z.argmax(axis=1)           #predict output\n",
    "        return yh"
   ]
  },
  {
   "cell_type": "code",
   "execution_count": 93,
   "metadata": {},
   "outputs": [],
   "source": [
    "# Hyperparameter Optimization\n"
   ]
  },
  {
   "cell_type": "code",
   "execution_count": 24,
   "metadata": {},
   "outputs": [],
   "source": [
    "# Model for comparison"
   ]
  },
  {
   "cell_type": "code",
   "execution_count": null,
   "metadata": {},
   "outputs": [],
   "source": []
  }
 ],
 "metadata": {
  "kernelspec": {
   "display_name": "Python 3",
   "language": "python",
   "name": "python3"
  },
  "language_info": {
   "codemirror_mode": {
    "name": "ipython",
    "version": 3
   },
   "file_extension": ".py",
   "mimetype": "text/x-python",
   "name": "python",
   "nbconvert_exporter": "python",
   "pygments_lexer": "ipython3",
   "version": "3.8.3"
  }
 },
 "nbformat": 4,
 "nbformat_minor": 4
}
